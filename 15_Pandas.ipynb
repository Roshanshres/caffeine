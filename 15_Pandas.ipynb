{
  "nbformat": 4,
  "nbformat_minor": 0,
  "metadata": {
    "colab": {
      "provenance": [],
      "authorship_tag": "ABX9TyMJYHAV2EViKvBH7wttl+CR"
    },
    "kernelspec": {
      "name": "python3",
      "display_name": "Python 3"
    },
    "language_info": {
      "name": "python"
    }
  },
  "cells": [
    {
      "cell_type": "code",
      "execution_count": 46,
      "metadata": {
        "id": "t835vPl-2mXw"
      },
      "outputs": [],
      "source": []
    },
    {
      "cell_type": "markdown",
      "source": [
        "Pandas is fast powwerful flexible, and easy to use open source data analysis and manipulation tool, built on the top of the python programming language."
      ],
      "metadata": {
        "id": "X0LUMpGN2sed"
      }
    },
    {
      "cell_type": "markdown",
      "source": [
        "PANDA series are like column in table 1-D array holding data of any type."
      ],
      "metadata": {
        "id": "Q3HMR0_52_lA"
      }
    },
    {
      "cell_type": "markdown",
      "source": [
        "Types of objects\n",
        "\n",
        "\n",
        "1.   Series\n",
        "2.   Dataframe\n",
        "\n"
      ],
      "metadata": {
        "id": "SNPN_bAKONYJ"
      }
    },
    {
      "cell_type": "code",
      "source": [
        "#importing pandas\n",
        "import numpy as np\n",
        "import pandas as pd\n",
        "#series\n",
        "# create array\n",
        "country = ['India', 'Nepal', 'USA', 'SriLanka', 'UK']\n",
        "pd.Series(country)"
      ],
      "metadata": {
        "id": "PfiaHrSl2_Bh",
        "colab": {
          "base_uri": "https://localhost:8080/"
        },
        "outputId": "20d8212a-3c62-4f66-f829-f2d905b0367b"
      },
      "execution_count": 47,
      "outputs": [
        {
          "output_type": "execute_result",
          "data": {
            "text/plain": [
              "0       India\n",
              "1       Nepal\n",
              "2         USA\n",
              "3    SriLanka\n",
              "4          UK\n",
              "dtype: object"
            ]
          },
          "metadata": {},
          "execution_count": 47
        }
      ]
    },
    {
      "cell_type": "code",
      "source": [
        "runs = [13,24,56,78,99,123,124]\n",
        "pd.Series(runs)"
      ],
      "metadata": {
        "colab": {
          "base_uri": "https://localhost:8080/"
        },
        "id": "S50N4qKHPjiq",
        "outputId": "5fb2d500-5499-40a2-b9c4-1da1e843f350"
      },
      "execution_count": 48,
      "outputs": [
        {
          "output_type": "execute_result",
          "data": {
            "text/plain": [
              "0     13\n",
              "1     24\n",
              "2     56\n",
              "3     78\n",
              "4     99\n",
              "5    123\n",
              "6    124\n",
              "dtype: int64"
            ]
          },
          "metadata": {},
          "execution_count": 48
        }
      ]
    },
    {
      "cell_type": "code",
      "source": [
        "#custom index\n",
        "marks = [90,80,30,40]\n",
        "subject =   ['Physics','math', 'Biology', 'Nepal']\n",
        "pd.Series(marks, index= subject)"
      ],
      "metadata": {
        "colab": {
          "base_uri": "https://localhost:8080/"
        },
        "id": "pKt5FTcARb-b",
        "outputId": "5a9bb440-e033-4368-d560-eabad49f0f67"
      },
      "execution_count": 49,
      "outputs": [
        {
          "output_type": "execute_result",
          "data": {
            "text/plain": [
              "Physics    90\n",
              "math       80\n",
              "Biology    30\n",
              "Nepal      40\n",
              "dtype: int64"
            ]
          },
          "metadata": {},
          "execution_count": 49
        }
      ]
    },
    {
      "cell_type": "code",
      "source": [
        "#to give names\n",
        "pd.Series(marks,index = subject, name ='Roshan')\n",
        "#marks = pd.Series(index = subject, name = 'Roshan')"
      ],
      "metadata": {
        "colab": {
          "base_uri": "https://localhost:8080/"
        },
        "id": "aPGpkHI4R7GM",
        "outputId": "951e7b8a-351c-451b-900a-0640f05a20dd"
      },
      "execution_count": 50,
      "outputs": [
        {
          "output_type": "execute_result",
          "data": {
            "text/plain": [
              "Physics    90\n",
              "math       80\n",
              "Biology    30\n",
              "Nepal      40\n",
              "Name: Roshan, dtype: int64"
            ]
          },
          "metadata": {},
          "execution_count": 50
        }
      ]
    },
    {
      "cell_type": "code",
      "source": [
        "marks = pd.Series(index = subject, name = 'Roshan')\n",
        "marks"
      ],
      "metadata": {
        "colab": {
          "base_uri": "https://localhost:8080/"
        },
        "id": "Ccb2Lzm3UHmT",
        "outputId": "93832b05-f48e-4ba3-c4cb-02432fbea0b4"
      },
      "execution_count": 51,
      "outputs": [
        {
          "output_type": "stream",
          "name": "stderr",
          "text": [
            "<ipython-input-51-9c2fa23c53ef>:1: FutureWarning: The default dtype for empty Series will be 'object' instead of 'float64' in a future version. Specify a dtype explicitly to silence this warning.\n",
            "  marks = pd.Series(index = subject, name = 'Roshan')\n"
          ]
        },
        {
          "output_type": "execute_result",
          "data": {
            "text/plain": [
              "Physics   NaN\n",
              "math      NaN\n",
              "Biology   NaN\n",
              "Nepal     NaN\n",
              "Name: Roshan, dtype: float64"
            ]
          },
          "metadata": {},
          "execution_count": 51
        }
      ]
    },
    {
      "cell_type": "code",
      "source": [
        "#series from dict\n",
        "marks = {\n",
        "    'math':70,\n",
        "    'nepali':90,\n",
        "    'physics':80,\n",
        "    'chemistry': 60\n",
        "}\n",
        "marks_series = pd.Series(marks)\n",
        "marks"
      ],
      "metadata": {
        "colab": {
          "base_uri": "https://localhost:8080/"
        },
        "id": "Jdum_TUTUgRf",
        "outputId": "fd8b287a-a7f9-488d-8b17-5e507ee3cea3"
      },
      "execution_count": 52,
      "outputs": [
        {
          "output_type": "execute_result",
          "data": {
            "text/plain": [
              "{'math': 70, 'nepali': 90, 'physics': 80, 'chemistry': 60}"
            ]
          },
          "metadata": {},
          "execution_count": 52
        }
      ]
    },
    {
      "cell_type": "code",
      "source": [
        "pd.Series(marks, name = 'roshan')"
      ],
      "metadata": {
        "colab": {
          "base_uri": "https://localhost:8080/"
        },
        "id": "kipX9GGDVYqk",
        "outputId": "6d5d430a-6554-42df-9c9b-018564c788a0"
      },
      "execution_count": 53,
      "outputs": [
        {
          "output_type": "execute_result",
          "data": {
            "text/plain": [
              "math         70\n",
              "nepali       90\n",
              "physics      80\n",
              "chemistry    60\n",
              "Name: roshan, dtype: int64"
            ]
          },
          "metadata": {},
          "execution_count": 53
        }
      ]
    },
    {
      "cell_type": "code",
      "source": [],
      "metadata": {
        "id": "27_u6MIfjJcI"
      },
      "execution_count": 53,
      "outputs": []
    },
    {
      "cell_type": "code",
      "source": [],
      "metadata": {
        "id": "Rq8z1VNpnrZv"
      },
      "execution_count": 53,
      "outputs": []
    },
    {
      "cell_type": "markdown",
      "source": [
        "SERIESE USING READ_CSV\n"
      ],
      "metadata": {
        "id": "PeHpsKitntSh"
      }
    },
    {
      "cell_type": "code",
      "source": [
        "# pd.read_csv('/content/subs.csv')\n",
        "#this is not in series to see type we do\n",
        "type(pd.read_csv('/content/subs.csv'))"
      ],
      "metadata": {
        "colab": {
          "base_uri": "https://localhost:8080/"
        },
        "id": "UyzGLmVXn1Cf",
        "outputId": "8a5d2872-097e-4c04-82a9-a5c932eff4e1"
      },
      "execution_count": 54,
      "outputs": [
        {
          "output_type": "execute_result",
          "data": {
            "text/plain": [
              "pandas.core.frame.DataFrame"
            ]
          },
          "metadata": {},
          "execution_count": 54
        }
      ]
    },
    {
      "cell_type": "code",
      "source": [
        "#to convert into serires\n",
        "pd.read_csv('/content/subs.csv', squeeze =True)"
      ],
      "metadata": {
        "colab": {
          "base_uri": "https://localhost:8080/"
        },
        "id": "dQqQETCroZlT",
        "outputId": "a51b4acd-79c2-426c-e302-a947b8509c9f"
      },
      "execution_count": 55,
      "outputs": [
        {
          "output_type": "stream",
          "name": "stderr",
          "text": [
            "<ipython-input-55-a23808ec79f0>:2: FutureWarning: The squeeze argument has been deprecated and will be removed in a future version. Append .squeeze(\"columns\") to the call to squeeze.\n",
            "\n",
            "\n",
            "  pd.read_csv('/content/subs.csv', squeeze =True)\n"
          ]
        },
        {
          "output_type": "execute_result",
          "data": {
            "text/plain": [
              "0       48\n",
              "1       57\n",
              "2       40\n",
              "3       43\n",
              "4       44\n",
              "      ... \n",
              "360    231\n",
              "361    226\n",
              "362    155\n",
              "363    144\n",
              "364    172\n",
              "Name: Subscribers gained, Length: 365, dtype: int64"
            ]
          },
          "metadata": {},
          "execution_count": 55
        }
      ]
    },
    {
      "cell_type": "code",
      "source": [
        "#insert into variable\n",
        "subs = pd.read_csv('/content/subs.csv', squeeze = True)\n",
        "subs"
      ],
      "metadata": {
        "colab": {
          "base_uri": "https://localhost:8080/"
        },
        "id": "65ydETdopCGj",
        "outputId": "3e4e4d74-c610-412b-e569-8bbbb6d10347"
      },
      "execution_count": 56,
      "outputs": [
        {
          "output_type": "stream",
          "name": "stderr",
          "text": [
            "<ipython-input-56-65ae27aa4615>:2: FutureWarning: The squeeze argument has been deprecated and will be removed in a future version. Append .squeeze(\"columns\") to the call to squeeze.\n",
            "\n",
            "\n",
            "  subs = pd.read_csv('/content/subs.csv', squeeze = True)\n"
          ]
        },
        {
          "output_type": "execute_result",
          "data": {
            "text/plain": [
              "0       48\n",
              "1       57\n",
              "2       40\n",
              "3       43\n",
              "4       44\n",
              "      ... \n",
              "360    231\n",
              "361    226\n",
              "362    155\n",
              "363    144\n",
              "364    172\n",
              "Name: Subscribers gained, Length: 365, dtype: int64"
            ]
          },
          "metadata": {},
          "execution_count": 56
        }
      ]
    },
    {
      "cell_type": "code",
      "source": [
        "#with 2 column\n",
        "vk = pd.read_csv('/content/kohli_ipl.csv', index_col = 'match_no', squeeze = True)\n",
        "vk"
      ],
      "metadata": {
        "colab": {
          "base_uri": "https://localhost:8080/"
        },
        "id": "I7pLG40CqdU7",
        "outputId": "ca8cd49c-6d13-4b3f-b1cc-353480247786"
      },
      "execution_count": 57,
      "outputs": [
        {
          "output_type": "stream",
          "name": "stderr",
          "text": [
            "<ipython-input-57-fa9ec3401079>:2: FutureWarning: The squeeze argument has been deprecated and will be removed in a future version. Append .squeeze(\"columns\") to the call to squeeze.\n",
            "\n",
            "\n",
            "  vk = pd.read_csv('/content/kohli_ipl.csv', index_col = 'match_no', squeeze = True)\n"
          ]
        },
        {
          "output_type": "execute_result",
          "data": {
            "text/plain": [
              "match_no\n",
              "1       1\n",
              "2      23\n",
              "3      13\n",
              "4      12\n",
              "5       1\n",
              "       ..\n",
              "211     0\n",
              "212    20\n",
              "213    73\n",
              "214    25\n",
              "215     7\n",
              "Name: runs, Length: 215, dtype: int64"
            ]
          },
          "metadata": {},
          "execution_count": 57
        }
      ]
    },
    {
      "cell_type": "code",
      "source": [
        "#with 2 column --- bollyhood\n",
        "bolly = pd.read_csv('/content/bollywood.csv', index_col = 'movie', squeeze = True)\n",
        "bolly"
      ],
      "metadata": {
        "colab": {
          "base_uri": "https://localhost:8080/"
        },
        "id": "6g4VOeE-rcaB",
        "outputId": "1fc5a792-7bfd-4fb4-86e5-810684953bff"
      },
      "execution_count": 58,
      "outputs": [
        {
          "output_type": "stream",
          "name": "stderr",
          "text": [
            "<ipython-input-58-b2dabc78fed1>:2: FutureWarning: The squeeze argument has been deprecated and will be removed in a future version. Append .squeeze(\"columns\") to the call to squeeze.\n",
            "\n",
            "\n",
            "  bolly = pd.read_csv('/content/bollywood.csv', index_col = 'movie', squeeze = True)\n"
          ]
        },
        {
          "output_type": "execute_result",
          "data": {
            "text/plain": [
              "movie\n",
              "Uri: The Surgical Strike                   Vicky Kaushal\n",
              "Battalion 609                                Vicky Ahuja\n",
              "The Accidental Prime Minister (film)         Anupam Kher\n",
              "Why Cheat India                            Emraan Hashmi\n",
              "Evening Shadows                         Mona Ambegaonkar\n",
              "                                              ...       \n",
              "Hum Tumhare Hain Sanam                    Shah Rukh Khan\n",
              "Aankhen (2002 film)                     Amitabh Bachchan\n",
              "Saathiya (film)                             Vivek Oberoi\n",
              "Company (film)                                Ajay Devgn\n",
              "Awara Paagal Deewana                        Akshay Kumar\n",
              "Name: lead, Length: 1500, dtype: object"
            ]
          },
          "metadata": {},
          "execution_count": 58
        }
      ]
    },
    {
      "cell_type": "code",
      "source": [
        "#head and tail\n",
        "subs.head()"
      ],
      "metadata": {
        "id": "wzVzuagisW-k",
        "colab": {
          "base_uri": "https://localhost:8080/"
        },
        "outputId": "4a21bbe8-4be8-4996-cee8-6a54fcee6720"
      },
      "execution_count": 59,
      "outputs": [
        {
          "output_type": "execute_result",
          "data": {
            "text/plain": [
              "0    48\n",
              "1    57\n",
              "2    40\n",
              "3    43\n",
              "4    44\n",
              "Name: Subscribers gained, dtype: int64"
            ]
          },
          "metadata": {},
          "execution_count": 59
        }
      ]
    },
    {
      "cell_type": "code",
      "source": [
        "#for rows-- 1st 5 rows\n",
        "vk.head()"
      ],
      "metadata": {
        "colab": {
          "base_uri": "https://localhost:8080/"
        },
        "id": "pp8UA2kEs-XG",
        "outputId": "ae0c1931-081a-4f39-9b12-6a696efcfb15"
      },
      "execution_count": 60,
      "outputs": [
        {
          "output_type": "execute_result",
          "data": {
            "text/plain": [
              "match_no\n",
              "1     1\n",
              "2    23\n",
              "3    13\n",
              "4    12\n",
              "5     1\n",
              "Name: runs, dtype: int64"
            ]
          },
          "metadata": {},
          "execution_count": 60
        }
      ]
    },
    {
      "cell_type": "code",
      "source": [
        "#last 5 rows\n",
        "bolly.tail()"
      ],
      "metadata": {
        "colab": {
          "base_uri": "https://localhost:8080/"
        },
        "id": "qsHxnTmDtNSr",
        "outputId": "681bf100-9b68-4693-c3ad-d502bf4ac68a"
      },
      "execution_count": 61,
      "outputs": [
        {
          "output_type": "execute_result",
          "data": {
            "text/plain": [
              "movie\n",
              "Hum Tumhare Hain Sanam      Shah Rukh Khan\n",
              "Aankhen (2002 film)       Amitabh Bachchan\n",
              "Saathiya (film)               Vivek Oberoi\n",
              "Company (film)                  Ajay Devgn\n",
              "Awara Paagal Deewana          Akshay Kumar\n",
              "Name: lead, dtype: object"
            ]
          },
          "metadata": {},
          "execution_count": 61
        }
      ]
    },
    {
      "cell_type": "code",
      "source": [
        "#randomly takes\n",
        "bolly.sample()"
      ],
      "metadata": {
        "colab": {
          "base_uri": "https://localhost:8080/"
        },
        "id": "yvgAYPl0tIS0",
        "outputId": "1e5959c8-87a0-4f11-fd7b-e4240747f190"
      },
      "execution_count": 62,
      "outputs": [
        {
          "output_type": "execute_result",
          "data": {
            "text/plain": [
              "movie\n",
              "Fuddu    Shubham\n",
              "Name: lead, dtype: object"
            ]
          },
          "metadata": {},
          "execution_count": 62
        }
      ]
    },
    {
      "cell_type": "code",
      "source": [
        "#value _- counts\n",
        "bolly.value_counts()"
      ],
      "metadata": {
        "colab": {
          "base_uri": "https://localhost:8080/"
        },
        "id": "Pt-crEBTtkCz",
        "outputId": "24fcf05e-f0d2-463d-f07c-924ec9a2e127"
      },
      "execution_count": 63,
      "outputs": [
        {
          "output_type": "execute_result",
          "data": {
            "text/plain": [
              "Akshay Kumar        48\n",
              "Amitabh Bachchan    45\n",
              "Ajay Devgn          38\n",
              "Salman Khan         31\n",
              "Sanjay Dutt         26\n",
              "                    ..\n",
              "Diganth              1\n",
              "Parveen Kaur         1\n",
              "Seema Azmi           1\n",
              "Akanksha Puri        1\n",
              "Edwin Fernandes      1\n",
              "Name: lead, Length: 566, dtype: int64"
            ]
          },
          "metadata": {},
          "execution_count": 63
        }
      ]
    },
    {
      "cell_type": "code",
      "source": [
        "vk.value_counts()"
      ],
      "metadata": {
        "colab": {
          "base_uri": "https://localhost:8080/"
        },
        "id": "yltMaNc8t3H0",
        "outputId": "328b0f31-853a-4717-cc0d-cb6d0195361b"
      },
      "execution_count": 64,
      "outputs": [
        {
          "output_type": "execute_result",
          "data": {
            "text/plain": [
              "0     9\n",
              "1     8\n",
              "12    8\n",
              "9     7\n",
              "35    6\n",
              "     ..\n",
              "36    1\n",
              "45    1\n",
              "71    1\n",
              "37    1\n",
              "53    1\n",
              "Name: runs, Length: 78, dtype: int64"
            ]
          },
          "metadata": {},
          "execution_count": 64
        }
      ]
    },
    {
      "cell_type": "code",
      "source": [
        "#sort_values---inplace\n",
        "vk.sort_values()"
      ],
      "metadata": {
        "colab": {
          "base_uri": "https://localhost:8080/"
        },
        "id": "MYvxZxPFuXtD",
        "outputId": "82f1e412-7f78-4b81-a30e-6dafa854cef0"
      },
      "execution_count": 65,
      "outputs": [
        {
          "output_type": "execute_result",
          "data": {
            "text/plain": [
              "match_no\n",
              "87       0\n",
              "211      0\n",
              "207      0\n",
              "206      0\n",
              "91       0\n",
              "      ... \n",
              "164    100\n",
              "120    100\n",
              "123    108\n",
              "126    109\n",
              "128    113\n",
              "Name: runs, Length: 215, dtype: int64"
            ]
          },
          "metadata": {},
          "execution_count": 65
        }
      ]
    },
    {
      "cell_type": "code",
      "source": [
        "vk.sort_values(ascending = False)"
      ],
      "metadata": {
        "id": "AewV0MFKultw",
        "colab": {
          "base_uri": "https://localhost:8080/"
        },
        "outputId": "e011e40b-947e-4d73-a821-c49013215508"
      },
      "execution_count": 66,
      "outputs": [
        {
          "output_type": "execute_result",
          "data": {
            "text/plain": [
              "match_no\n",
              "128    113\n",
              "126    109\n",
              "123    108\n",
              "164    100\n",
              "120    100\n",
              "      ... \n",
              "93       0\n",
              "211      0\n",
              "130      0\n",
              "8        0\n",
              "135      0\n",
              "Name: runs, Length: 215, dtype: int64"
            ]
          },
          "metadata": {},
          "execution_count": 66
        }
      ]
    },
    {
      "cell_type": "code",
      "source": [
        "#sort index\n",
        "bolly.sort_index()"
      ],
      "metadata": {
        "colab": {
          "base_uri": "https://localhost:8080/"
        },
        "id": "T7PD1Wudv4mV",
        "outputId": "291f8da8-c88c-47d6-e2d3-914326fcfb06"
      },
      "execution_count": 67,
      "outputs": [
        {
          "output_type": "execute_result",
          "data": {
            "text/plain": [
              "movie\n",
              "1920 (film)                   Rajniesh Duggall\n",
              "1920: London                     Sharman Joshi\n",
              "1920: The Evil Returns             Vicky Ahuja\n",
              "1971 (2007 film)                Manoj Bajpayee\n",
              "2 States (2014 film)              Arjun Kapoor\n",
              "                                   ...        \n",
              "Zindagi 50-50                      Veena Malik\n",
              "Zindagi Na Milegi Dobara        Hrithik Roshan\n",
              "Zindagi Tere Naam           Mithun Chakraborty\n",
              "Zokkomon                       Darsheel Safary\n",
              "Zor Lagaa Ke...Haiya!            Meghan Jadhav\n",
              "Name: lead, Length: 1500, dtype: object"
            ]
          },
          "metadata": {},
          "execution_count": 67
        }
      ]
    },
    {
      "cell_type": "code",
      "source": [
        "bolly.sort_index(inplace = True)"
      ],
      "metadata": {
        "id": "9844Ee7SwDh0"
      },
      "execution_count": 68,
      "outputs": []
    },
    {
      "cell_type": "code",
      "source": [
        "bolly"
      ],
      "metadata": {
        "colab": {
          "base_uri": "https://localhost:8080/"
        },
        "id": "F1ub8HycwMLo",
        "outputId": "11342b33-843f-4834-c9e1-23e69697a8a0"
      },
      "execution_count": 69,
      "outputs": [
        {
          "output_type": "execute_result",
          "data": {
            "text/plain": [
              "movie\n",
              "1920 (film)                   Rajniesh Duggall\n",
              "1920: London                     Sharman Joshi\n",
              "1920: The Evil Returns             Vicky Ahuja\n",
              "1971 (2007 film)                Manoj Bajpayee\n",
              "2 States (2014 film)              Arjun Kapoor\n",
              "                                   ...        \n",
              "Zindagi 50-50                      Veena Malik\n",
              "Zindagi Na Milegi Dobara        Hrithik Roshan\n",
              "Zindagi Tere Naam           Mithun Chakraborty\n",
              "Zokkomon                       Darsheel Safary\n",
              "Zor Lagaa Ke...Haiya!            Meghan Jadhav\n",
              "Name: lead, Length: 1500, dtype: object"
            ]
          },
          "metadata": {},
          "execution_count": 69
        }
      ]
    },
    {
      "cell_type": "markdown",
      "source": [
        "#series maths methods\n",
        "#count\n",
        "count no.of items but not missing value[Gives total no,of rows given in series only if not missing]\n",
        "\n"
      ],
      "metadata": {
        "id": "TpH7FrL7BG6h"
      }
    },
    {
      "cell_type": "code",
      "source": [
        "#count\n",
        "vk.count()"
      ],
      "metadata": {
        "colab": {
          "base_uri": "https://localhost:8080/"
        },
        "id": "GUzyUb_bBB8t",
        "outputId": "074f1643-111a-41a4-880e-8ab50301f3ca"
      },
      "execution_count": 70,
      "outputs": [
        {
          "output_type": "execute_result",
          "data": {
            "text/plain": [
              "215"
            ]
          },
          "metadata": {},
          "execution_count": 70
        }
      ]
    },
    {
      "cell_type": "code",
      "source": [
        "bolly.count()"
      ],
      "metadata": {
        "colab": {
          "base_uri": "https://localhost:8080/"
        },
        "id": "VDG46tjPBzJl",
        "outputId": "ea68d1c3-4daa-46ff-ab73-13ccb1182787"
      },
      "execution_count": 71,
      "outputs": [
        {
          "output_type": "execute_result",
          "data": {
            "text/plain": [
              "1500"
            ]
          },
          "metadata": {},
          "execution_count": 71
        }
      ]
    },
    {
      "cell_type": "code",
      "source": [
        "#sum\n",
        "subs.sum()"
      ],
      "metadata": {
        "colab": {
          "base_uri": "https://localhost:8080/"
        },
        "id": "sCIKyudDB1HM",
        "outputId": "7893328b-6cf9-4be6-d25b-40d6103002a8"
      },
      "execution_count": 72,
      "outputs": [
        {
          "output_type": "execute_result",
          "data": {
            "text/plain": [
              "49510"
            ]
          },
          "metadata": {},
          "execution_count": 72
        }
      ]
    },
    {
      "cell_type": "code",
      "source": [
        "vk.product()"
      ],
      "metadata": {
        "colab": {
          "base_uri": "https://localhost:8080/"
        },
        "id": "ukuxX3VLCFnM",
        "outputId": "13dc78d7-5e26-49ac-fa09-ccb7cd5130b7"
      },
      "execution_count": 73,
      "outputs": [
        {
          "output_type": "execute_result",
          "data": {
            "text/plain": [
              "0"
            ]
          },
          "metadata": {},
          "execution_count": 73
        }
      ]
    },
    {
      "cell_type": "code",
      "source": [
        "#mean\n",
        "# subs.mean()\n",
        "subs"
      ],
      "metadata": {
        "colab": {
          "base_uri": "https://localhost:8080/"
        },
        "id": "BMPxEGtnDwOM",
        "outputId": "b74b9472-7f26-4f4e-8924-bcd927094cb9"
      },
      "execution_count": 74,
      "outputs": [
        {
          "output_type": "execute_result",
          "data": {
            "text/plain": [
              "0       48\n",
              "1       57\n",
              "2       40\n",
              "3       43\n",
              "4       44\n",
              "      ... \n",
              "360    231\n",
              "361    226\n",
              "362    155\n",
              "363    144\n",
              "364    172\n",
              "Name: Subscribers gained, Length: 365, dtype: int64"
            ]
          },
          "metadata": {},
          "execution_count": 74
        }
      ]
    },
    {
      "cell_type": "code",
      "source": [
        "\n",
        "print(subs.median())"
      ],
      "metadata": {
        "colab": {
          "base_uri": "https://localhost:8080/"
        },
        "id": "EjLvRn9WD2SB",
        "outputId": "74b802eb-7623-4450-de87-dcaedfcba254"
      },
      "execution_count": 75,
      "outputs": [
        {
          "output_type": "stream",
          "name": "stdout",
          "text": [
            "123.0\n"
          ]
        }
      ]
    },
    {
      "cell_type": "code",
      "source": [
        "#mode\n",
        "print(bolly.mode())\n"
      ],
      "metadata": {
        "colab": {
          "base_uri": "https://localhost:8080/"
        },
        "id": "37XAPJR0EH-I",
        "outputId": "cbb7bf7c-acae-4ec4-c488-bbc783b0fde5"
      },
      "execution_count": 76,
      "outputs": [
        {
          "output_type": "stream",
          "name": "stdout",
          "text": [
            "0    Akshay Kumar\n",
            "Name: lead, dtype: object\n"
          ]
        }
      ]
    },
    {
      "cell_type": "code",
      "source": [
        "#standard deviation\n",
        "print(subs.std())"
      ],
      "metadata": {
        "colab": {
          "base_uri": "https://localhost:8080/"
        },
        "id": "6RrRl4Q7ESWN",
        "outputId": "b1295fdd-11ad-41cd-cbc0-7fb160914346"
      },
      "execution_count": 77,
      "outputs": [
        {
          "output_type": "stream",
          "name": "stdout",
          "text": [
            "62.6750230372527\n"
          ]
        }
      ]
    },
    {
      "cell_type": "code",
      "source": [
        "print(vk.var())"
      ],
      "metadata": {
        "colab": {
          "base_uri": "https://localhost:8080/"
        },
        "id": "WP_8e8bcEkrh",
        "outputId": "6f1c8da2-3ae0-429a-95b2-4af38e20faab"
      },
      "execution_count": 78,
      "outputs": [
        {
          "output_type": "stream",
          "name": "stdout",
          "text": [
            "688.0024777222343\n"
          ]
        }
      ]
    },
    {
      "cell_type": "code",
      "source": [
        "#min/max\n",
        "subs.min()"
      ],
      "metadata": {
        "colab": {
          "base_uri": "https://localhost:8080/"
        },
        "id": "0KZrNj2_EocS",
        "outputId": "462752ef-da25-42ee-c4bc-15d3296dcd9f"
      },
      "execution_count": 79,
      "outputs": [
        {
          "output_type": "execute_result",
          "data": {
            "text/plain": [
              "33"
            ]
          },
          "metadata": {},
          "execution_count": 79
        }
      ]
    },
    {
      "cell_type": "code",
      "source": [
        "subs.max()"
      ],
      "metadata": {
        "colab": {
          "base_uri": "https://localhost:8080/"
        },
        "id": "i-DGfBY3EuyK",
        "outputId": "b493411c-faf0-4f77-c9b4-a0abb6dc0262"
      },
      "execution_count": 80,
      "outputs": [
        {
          "output_type": "execute_result",
          "data": {
            "text/plain": [
              "396"
            ]
          },
          "metadata": {},
          "execution_count": 80
        }
      ]
    },
    {
      "cell_type": "code",
      "source": [
        "vk.describe()"
      ],
      "metadata": {
        "colab": {
          "base_uri": "https://localhost:8080/"
        },
        "id": "jfQ4NQsSExzX",
        "outputId": "b089cfbd-773a-40a9-9d95-aaf7815b9330"
      },
      "execution_count": 81,
      "outputs": [
        {
          "output_type": "execute_result",
          "data": {
            "text/plain": [
              "count    215.000000\n",
              "mean      30.855814\n",
              "std       26.229801\n",
              "min        0.000000\n",
              "25%        9.000000\n",
              "50%       24.000000\n",
              "75%       48.000000\n",
              "max      113.000000\n",
              "Name: runs, dtype: float64"
            ]
          },
          "metadata": {},
          "execution_count": 81
        }
      ]
    },
    {
      "cell_type": "markdown",
      "source": [
        "series indexing\n",
        "given series inside takes items using index\n"
      ],
      "metadata": {
        "id": "qI9CAEWmE68P"
      }
    },
    {
      "cell_type": "code",
      "source": [
        "#integer indexing\n",
        "x  = pd.Series([10,22,31,24,33,23,11,44,56])\n",
        "x"
      ],
      "metadata": {
        "colab": {
          "base_uri": "https://localhost:8080/"
        },
        "id": "R2k_asPYFDbd",
        "outputId": "5c52cca6-af87-4335-a578-08c9bd974947"
      },
      "execution_count": 82,
      "outputs": [
        {
          "output_type": "execute_result",
          "data": {
            "text/plain": [
              "0    10\n",
              "1    22\n",
              "2    31\n",
              "3    24\n",
              "4    33\n",
              "5    23\n",
              "6    11\n",
              "7    44\n",
              "8    56\n",
              "dtype: int64"
            ]
          },
          "metadata": {},
          "execution_count": 82
        }
      ]
    }
  ]
}